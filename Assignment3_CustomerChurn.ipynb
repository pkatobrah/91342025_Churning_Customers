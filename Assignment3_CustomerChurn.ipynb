{
  "cells": [
    {
      "cell_type": "code",
      "execution_count": 49,
      "metadata": {
        "id": "Lh-Yb_T8vYk5",
        "colab": {
          "base_uri": "https://localhost:8080/"
        },
        "outputId": "abbed052-dda4-446b-de06-f7c340c5d8d5"
      },
      "outputs": [
        {
          "output_type": "stream",
          "name": "stdout",
          "text": [
            "Requirement already satisfied: keras-tuner in /usr/local/lib/python3.10/dist-packages (1.4.6)\n",
            "Requirement already satisfied: keras in /usr/local/lib/python3.10/dist-packages (from keras-tuner) (2.14.0)\n",
            "Requirement already satisfied: packaging in /usr/local/lib/python3.10/dist-packages (from keras-tuner) (23.2)\n",
            "Requirement already satisfied: requests in /usr/local/lib/python3.10/dist-packages (from keras-tuner) (2.31.0)\n",
            "Requirement already satisfied: kt-legacy in /usr/local/lib/python3.10/dist-packages (from keras-tuner) (1.0.5)\n",
            "Requirement already satisfied: charset-normalizer<4,>=2 in /usr/local/lib/python3.10/dist-packages (from requests->keras-tuner) (3.3.2)\n",
            "Requirement already satisfied: idna<4,>=2.5 in /usr/local/lib/python3.10/dist-packages (from requests->keras-tuner) (3.4)\n",
            "Requirement already satisfied: urllib3<3,>=1.21.1 in /usr/local/lib/python3.10/dist-packages (from requests->keras-tuner) (2.0.7)\n",
            "Requirement already satisfied: certifi>=2017.4.17 in /usr/local/lib/python3.10/dist-packages (from requests->keras-tuner) (2023.7.22)\n",
            "Requirement already satisfied: scikit-plot in /usr/local/lib/python3.10/dist-packages (0.3.7)\n",
            "Requirement already satisfied: matplotlib>=1.4.0 in /usr/local/lib/python3.10/dist-packages (from scikit-plot) (3.7.1)\n",
            "Requirement already satisfied: scikit-learn>=0.18 in /usr/local/lib/python3.10/dist-packages (from scikit-plot) (1.2.2)\n",
            "Requirement already satisfied: scipy>=0.9 in /usr/local/lib/python3.10/dist-packages (from scikit-plot) (1.11.3)\n",
            "Requirement already satisfied: joblib>=0.10 in /usr/local/lib/python3.10/dist-packages (from scikit-plot) (1.3.2)\n",
            "Requirement already satisfied: contourpy>=1.0.1 in /usr/local/lib/python3.10/dist-packages (from matplotlib>=1.4.0->scikit-plot) (1.2.0)\n",
            "Requirement already satisfied: cycler>=0.10 in /usr/local/lib/python3.10/dist-packages (from matplotlib>=1.4.0->scikit-plot) (0.12.1)\n",
            "Requirement already satisfied: fonttools>=4.22.0 in /usr/local/lib/python3.10/dist-packages (from matplotlib>=1.4.0->scikit-plot) (4.44.0)\n",
            "Requirement already satisfied: kiwisolver>=1.0.1 in /usr/local/lib/python3.10/dist-packages (from matplotlib>=1.4.0->scikit-plot) (1.4.5)\n",
            "Requirement already satisfied: numpy>=1.20 in /usr/local/lib/python3.10/dist-packages (from matplotlib>=1.4.0->scikit-plot) (1.23.5)\n",
            "Requirement already satisfied: packaging>=20.0 in /usr/local/lib/python3.10/dist-packages (from matplotlib>=1.4.0->scikit-plot) (23.2)\n",
            "Requirement already satisfied: pillow>=6.2.0 in /usr/local/lib/python3.10/dist-packages (from matplotlib>=1.4.0->scikit-plot) (9.4.0)\n",
            "Requirement already satisfied: pyparsing>=2.3.1 in /usr/local/lib/python3.10/dist-packages (from matplotlib>=1.4.0->scikit-plot) (3.1.1)\n",
            "Requirement already satisfied: python-dateutil>=2.7 in /usr/local/lib/python3.10/dist-packages (from matplotlib>=1.4.0->scikit-plot) (2.8.2)\n",
            "Requirement already satisfied: threadpoolctl>=2.0.0 in /usr/local/lib/python3.10/dist-packages (from scikit-learn>=0.18->scikit-plot) (3.2.0)\n",
            "Requirement already satisfied: six>=1.5 in /usr/local/lib/python3.10/dist-packages (from python-dateutil>=2.7->matplotlib>=1.4.0->scikit-plot) (1.16.0)\n"
          ]
        }
      ],
      "source": [
        "import numpy as np\n",
        "import pandas as pd\n",
        "import matplotlib.pyplot as plt\n",
        "import seaborn as sns\n",
        "sns.set()\n",
        "from mlxtend.plotting import plot_decision_regions\n",
        "import missingno as msno\n",
        "from pandas.plotting import scatter_matrix\n",
        "from sklearn.preprocessing import StandardScaler\n",
        "from sklearn.model_selection import train_test_split\n",
        "#from sklearn.neighbors import KNeighbors_Classifier\n",
        "from sklearn.metrics import confusion_matrix\n",
        "from sklearn import metrics\n",
        "from sklearn.metrics import classification_report\n",
        "from sklearn.metrics import roc_curve\n",
        "from sklearn.metrics import roc_auc_score\n",
        "from sklearn.model_selection import GridSearchCV\n",
        "import warnings\n",
        "warnings.filterwarnings('ignore')\n",
        "%matplotlib inline\n",
        "\n",
        "!pip install keras-tuner\n",
        "import tensorflow as tf\n",
        "from tensorflow import keras\n",
        "from keras import layers\n",
        "from keras.layers import Input, Dense\n",
        "from keras import models\n",
        "from keras import Model\n",
        "from tensorflow.keras import layers\n",
        "import kerastuner as kt\n",
        "from kerastuner.tuners import RandomSearch\n",
        "from sklearn.model_selection import train_test_split\n",
        "from sklearn.preprocessing import StandardScaler, MinMaxScaler\n",
        "from sklearn.model_selection import train_test_split\n",
        "from sklearn.metrics import accuracy_score, classification_report, confusion_matrix\n",
        "!pip install scikit-plot\n",
        "import scikitplot as skplt"
      ]
    },
    {
      "cell_type": "code",
      "execution_count": 50,
      "metadata": {
        "colab": {
          "base_uri": "https://localhost:8080/"
        },
        "id": "kZoeWXrnzWkF",
        "outputId": "7c156d57-8b04-4dc6-af43-af7c1ba7a773"
      },
      "outputs": [
        {
          "output_type": "stream",
          "name": "stdout",
          "text": [
            "Drive already mounted at /content/drive; to attempt to forcibly remount, call drive.mount(\"/content/drive\", force_remount=True).\n"
          ]
        }
      ],
      "source": [
        "from google.colab import drive\n",
        "import pandas as pd\n",
        "from sklearn.model_selection import train_test_split\n",
        "from sklearn.preprocessing import StandardScaler\n",
        "drive.mount(\"/content/drive\")\n"
      ]
    },
    {
      "cell_type": "code",
      "execution_count": 51,
      "metadata": {
        "id": "W5aOmB6gzakw"
      },
      "outputs": [],
      "source": [
        "data = pd.read_csv('/content/drive/MyDrive/Colab Notebooks/CustomerChurn_dataset.csv')"
      ]
    },
    {
      "cell_type": "code",
      "execution_count": 52,
      "metadata": {
        "id": "oYGAa1Uczapp",
        "colab": {
          "base_uri": "https://localhost:8080/"
        },
        "outputId": "bb2d531d-be0d-414b-8aed-e66749b7bf16"
      },
      "outputs": [
        {
          "output_type": "stream",
          "name": "stdout",
          "text": [
            "<class 'pandas.core.frame.DataFrame'>\n",
            "RangeIndex: 7043 entries, 0 to 7042\n",
            "Data columns (total 21 columns):\n",
            " #   Column            Non-Null Count  Dtype  \n",
            "---  ------            --------------  -----  \n",
            " 0   customerID        7043 non-null   object \n",
            " 1   gender            7043 non-null   object \n",
            " 2   SeniorCitizen     7043 non-null   int64  \n",
            " 3   Partner           7043 non-null   object \n",
            " 4   Dependents        7043 non-null   object \n",
            " 5   tenure            7043 non-null   int64  \n",
            " 6   PhoneService      7043 non-null   object \n",
            " 7   MultipleLines     7043 non-null   object \n",
            " 8   InternetService   7043 non-null   object \n",
            " 9   OnlineSecurity    7043 non-null   object \n",
            " 10  OnlineBackup      7043 non-null   object \n",
            " 11  DeviceProtection  7043 non-null   object \n",
            " 12  TechSupport       7043 non-null   object \n",
            " 13  StreamingTV       7043 non-null   object \n",
            " 14  StreamingMovies   7043 non-null   object \n",
            " 15  Contract          7043 non-null   object \n",
            " 16  PaperlessBilling  7043 non-null   object \n",
            " 17  PaymentMethod     7043 non-null   object \n",
            " 18  MonthlyCharges    7043 non-null   float64\n",
            " 19  TotalCharges      7043 non-null   object \n",
            " 20  Churn             7043 non-null   object \n",
            "dtypes: float64(1), int64(2), object(18)\n",
            "memory usage: 1.1+ MB\n"
          ]
        }
      ],
      "source": [
        "data.info()"
      ]
    },
    {
      "cell_type": "code",
      "execution_count": 53,
      "metadata": {
        "id": "B0Hmky2KQt2M"
      },
      "outputs": [],
      "source": [
        "data = data.drop('customerID', axis =1)"
      ]
    },
    {
      "cell_type": "code",
      "execution_count": 54,
      "metadata": {
        "id": "xkxtMnFlTKL7"
      },
      "outputs": [],
      "source": [
        "data['TotalCharges'] = pd.to_numeric(data['TotalCharges'], errors='coerce', downcast = 'float')"
      ]
    },
    {
      "cell_type": "code",
      "execution_count": 55,
      "metadata": {
        "id": "x7u73HmtWfKs",
        "colab": {
          "base_uri": "https://localhost:8080/"
        },
        "outputId": "abd2f9be-208d-4249-a6ec-033528cef1de"
      },
      "outputs": [
        {
          "output_type": "execute_result",
          "data": {
            "text/plain": [
              "gender               0\n",
              "SeniorCitizen        0\n",
              "Partner              0\n",
              "Dependents           0\n",
              "tenure               0\n",
              "PhoneService         0\n",
              "MultipleLines        0\n",
              "InternetService      0\n",
              "OnlineSecurity       0\n",
              "OnlineBackup         0\n",
              "DeviceProtection     0\n",
              "TechSupport          0\n",
              "StreamingTV          0\n",
              "StreamingMovies      0\n",
              "Contract             0\n",
              "PaperlessBilling     0\n",
              "PaymentMethod        0\n",
              "MonthlyCharges       0\n",
              "TotalCharges        11\n",
              "Churn                0\n",
              "dtype: int64"
            ]
          },
          "metadata": {},
          "execution_count": 55
        }
      ],
      "source": [
        "data.isnull().sum()"
      ]
    },
    {
      "cell_type": "code",
      "execution_count": 56,
      "metadata": {
        "id": "iuokHpVmWfOE"
      },
      "outputs": [],
      "source": [
        "from sklearn.impute import SimpleImputer\n",
        "imputer = SimpleImputer(strategy='mean')\n",
        "data[['TotalCharges']] = imputer.fit_transform(data[['TotalCharges']])"
      ]
    },
    {
      "cell_type": "code",
      "execution_count": 57,
      "metadata": {
        "id": "pqw20A_1WfQr",
        "colab": {
          "base_uri": "https://localhost:8080/"
        },
        "outputId": "798f4e83-94d0-43bf-b75a-9a4da9a00900"
      },
      "outputs": [
        {
          "output_type": "stream",
          "name": "stdout",
          "text": [
            "<class 'pandas.core.frame.DataFrame'>\n",
            "RangeIndex: 7043 entries, 0 to 7042\n",
            "Data columns (total 20 columns):\n",
            " #   Column            Non-Null Count  Dtype  \n",
            "---  ------            --------------  -----  \n",
            " 0   gender            7043 non-null   object \n",
            " 1   SeniorCitizen     7043 non-null   int64  \n",
            " 2   Partner           7043 non-null   object \n",
            " 3   Dependents        7043 non-null   object \n",
            " 4   tenure            7043 non-null   int64  \n",
            " 5   PhoneService      7043 non-null   object \n",
            " 6   MultipleLines     7043 non-null   object \n",
            " 7   InternetService   7043 non-null   object \n",
            " 8   OnlineSecurity    7043 non-null   object \n",
            " 9   OnlineBackup      7043 non-null   object \n",
            " 10  DeviceProtection  7043 non-null   object \n",
            " 11  TechSupport       7043 non-null   object \n",
            " 12  StreamingTV       7043 non-null   object \n",
            " 13  StreamingMovies   7043 non-null   object \n",
            " 14  Contract          7043 non-null   object \n",
            " 15  PaperlessBilling  7043 non-null   object \n",
            " 16  PaymentMethod     7043 non-null   object \n",
            " 17  MonthlyCharges    7043 non-null   float64\n",
            " 18  TotalCharges      7043 non-null   float32\n",
            " 19  Churn             7043 non-null   object \n",
            "dtypes: float32(1), float64(1), int64(2), object(16)\n",
            "memory usage: 1.0+ MB\n"
          ]
        }
      ],
      "source": [
        "data.info()"
      ]
    },
    {
      "cell_type": "code",
      "execution_count": 58,
      "metadata": {
        "id": "7YOQzvWPyH9j"
      },
      "outputs": [],
      "source": [
        "new_data = data.copy()"
      ]
    },
    {
      "cell_type": "code",
      "execution_count": 59,
      "metadata": {
        "id": "ZzkdLt9lWfTR"
      },
      "outputs": [],
      "source": [
        "from sklearn.preprocessing import LabelEncoder\n",
        "categorical_columns = data.select_dtypes(include=['object']).columns\n",
        "label_encoder = LabelEncoder()\n",
        "\n",
        "for col in categorical_columns:\n",
        "    data[col] = label_encoder.fit_transform(data[col])"
      ]
    },
    {
      "cell_type": "code",
      "execution_count": 60,
      "metadata": {
        "id": "6JSFYGzlWfWp",
        "colab": {
          "base_uri": "https://localhost:8080/",
          "height": 439
        },
        "outputId": "54422d74-3787-4063-abc2-d82188dcbce8"
      },
      "outputs": [
        {
          "output_type": "execute_result",
          "data": {
            "text/plain": [
              "      gender  SeniorCitizen  Partner  Dependents  tenure  PhoneService  \\\n",
              "0          0              0        1           0       1             0   \n",
              "1          1              0        0           0      34             1   \n",
              "2          1              0        0           0       2             1   \n",
              "3          1              0        0           0      45             0   \n",
              "4          0              0        0           0       2             1   \n",
              "...      ...            ...      ...         ...     ...           ...   \n",
              "7038       1              0        1           1      24             1   \n",
              "7039       0              0        1           1      72             1   \n",
              "7040       0              0        1           1      11             0   \n",
              "7041       1              1        1           0       4             1   \n",
              "7042       1              0        0           0      66             1   \n",
              "\n",
              "      MultipleLines  InternetService  OnlineSecurity  OnlineBackup  \\\n",
              "0                 1                0               0             2   \n",
              "1                 0                0               2             0   \n",
              "2                 0                0               2             2   \n",
              "3                 1                0               2             0   \n",
              "4                 0                1               0             0   \n",
              "...             ...              ...             ...           ...   \n",
              "7038              2                0               2             0   \n",
              "7039              2                1               0             2   \n",
              "7040              1                0               2             0   \n",
              "7041              2                1               0             0   \n",
              "7042              0                1               2             0   \n",
              "\n",
              "      DeviceProtection  TechSupport  StreamingTV  StreamingMovies  Contract  \\\n",
              "0                    0            0            0                0         0   \n",
              "1                    2            0            0                0         1   \n",
              "2                    0            0            0                0         0   \n",
              "3                    2            2            0                0         1   \n",
              "4                    0            0            0                0         0   \n",
              "...                ...          ...          ...              ...       ...   \n",
              "7038                 2            2            2                2         1   \n",
              "7039                 2            0            2                2         1   \n",
              "7040                 0            0            0                0         0   \n",
              "7041                 0            0            0                0         0   \n",
              "7042                 2            2            2                2         2   \n",
              "\n",
              "      PaperlessBilling  PaymentMethod  MonthlyCharges  TotalCharges  Churn  \n",
              "0                    1              2           29.85     29.850000      0  \n",
              "1                    0              3           56.95   1889.500000      0  \n",
              "2                    1              3           53.85    108.150002      1  \n",
              "3                    0              0           42.30   1840.750000      0  \n",
              "4                    1              2           70.70    151.649994      1  \n",
              "...                ...            ...             ...           ...    ...  \n",
              "7038                 1              3           84.80   1990.500000      0  \n",
              "7039                 1              1          103.20   7362.899902      0  \n",
              "7040                 1              2           29.60    346.450012      0  \n",
              "7041                 1              3           74.40    306.600006      1  \n",
              "7042                 1              0          105.65   6844.500000      0  \n",
              "\n",
              "[7043 rows x 20 columns]"
            ],
            "text/html": [
              "\n",
              "  <div id=\"df-f492a033-5b3e-41f7-a447-f859a4a72e28\" class=\"colab-df-container\">\n",
              "    <div>\n",
              "<style scoped>\n",
              "    .dataframe tbody tr th:only-of-type {\n",
              "        vertical-align: middle;\n",
              "    }\n",
              "\n",
              "    .dataframe tbody tr th {\n",
              "        vertical-align: top;\n",
              "    }\n",
              "\n",
              "    .dataframe thead th {\n",
              "        text-align: right;\n",
              "    }\n",
              "</style>\n",
              "<table border=\"1\" class=\"dataframe\">\n",
              "  <thead>\n",
              "    <tr style=\"text-align: right;\">\n",
              "      <th></th>\n",
              "      <th>gender</th>\n",
              "      <th>SeniorCitizen</th>\n",
              "      <th>Partner</th>\n",
              "      <th>Dependents</th>\n",
              "      <th>tenure</th>\n",
              "      <th>PhoneService</th>\n",
              "      <th>MultipleLines</th>\n",
              "      <th>InternetService</th>\n",
              "      <th>OnlineSecurity</th>\n",
              "      <th>OnlineBackup</th>\n",
              "      <th>DeviceProtection</th>\n",
              "      <th>TechSupport</th>\n",
              "      <th>StreamingTV</th>\n",
              "      <th>StreamingMovies</th>\n",
              "      <th>Contract</th>\n",
              "      <th>PaperlessBilling</th>\n",
              "      <th>PaymentMethod</th>\n",
              "      <th>MonthlyCharges</th>\n",
              "      <th>TotalCharges</th>\n",
              "      <th>Churn</th>\n",
              "    </tr>\n",
              "  </thead>\n",
              "  <tbody>\n",
              "    <tr>\n",
              "      <th>0</th>\n",
              "      <td>0</td>\n",
              "      <td>0</td>\n",
              "      <td>1</td>\n",
              "      <td>0</td>\n",
              "      <td>1</td>\n",
              "      <td>0</td>\n",
              "      <td>1</td>\n",
              "      <td>0</td>\n",
              "      <td>0</td>\n",
              "      <td>2</td>\n",
              "      <td>0</td>\n",
              "      <td>0</td>\n",
              "      <td>0</td>\n",
              "      <td>0</td>\n",
              "      <td>0</td>\n",
              "      <td>1</td>\n",
              "      <td>2</td>\n",
              "      <td>29.85</td>\n",
              "      <td>29.850000</td>\n",
              "      <td>0</td>\n",
              "    </tr>\n",
              "    <tr>\n",
              "      <th>1</th>\n",
              "      <td>1</td>\n",
              "      <td>0</td>\n",
              "      <td>0</td>\n",
              "      <td>0</td>\n",
              "      <td>34</td>\n",
              "      <td>1</td>\n",
              "      <td>0</td>\n",
              "      <td>0</td>\n",
              "      <td>2</td>\n",
              "      <td>0</td>\n",
              "      <td>2</td>\n",
              "      <td>0</td>\n",
              "      <td>0</td>\n",
              "      <td>0</td>\n",
              "      <td>1</td>\n",
              "      <td>0</td>\n",
              "      <td>3</td>\n",
              "      <td>56.95</td>\n",
              "      <td>1889.500000</td>\n",
              "      <td>0</td>\n",
              "    </tr>\n",
              "    <tr>\n",
              "      <th>2</th>\n",
              "      <td>1</td>\n",
              "      <td>0</td>\n",
              "      <td>0</td>\n",
              "      <td>0</td>\n",
              "      <td>2</td>\n",
              "      <td>1</td>\n",
              "      <td>0</td>\n",
              "      <td>0</td>\n",
              "      <td>2</td>\n",
              "      <td>2</td>\n",
              "      <td>0</td>\n",
              "      <td>0</td>\n",
              "      <td>0</td>\n",
              "      <td>0</td>\n",
              "      <td>0</td>\n",
              "      <td>1</td>\n",
              "      <td>3</td>\n",
              "      <td>53.85</td>\n",
              "      <td>108.150002</td>\n",
              "      <td>1</td>\n",
              "    </tr>\n",
              "    <tr>\n",
              "      <th>3</th>\n",
              "      <td>1</td>\n",
              "      <td>0</td>\n",
              "      <td>0</td>\n",
              "      <td>0</td>\n",
              "      <td>45</td>\n",
              "      <td>0</td>\n",
              "      <td>1</td>\n",
              "      <td>0</td>\n",
              "      <td>2</td>\n",
              "      <td>0</td>\n",
              "      <td>2</td>\n",
              "      <td>2</td>\n",
              "      <td>0</td>\n",
              "      <td>0</td>\n",
              "      <td>1</td>\n",
              "      <td>0</td>\n",
              "      <td>0</td>\n",
              "      <td>42.30</td>\n",
              "      <td>1840.750000</td>\n",
              "      <td>0</td>\n",
              "    </tr>\n",
              "    <tr>\n",
              "      <th>4</th>\n",
              "      <td>0</td>\n",
              "      <td>0</td>\n",
              "      <td>0</td>\n",
              "      <td>0</td>\n",
              "      <td>2</td>\n",
              "      <td>1</td>\n",
              "      <td>0</td>\n",
              "      <td>1</td>\n",
              "      <td>0</td>\n",
              "      <td>0</td>\n",
              "      <td>0</td>\n",
              "      <td>0</td>\n",
              "      <td>0</td>\n",
              "      <td>0</td>\n",
              "      <td>0</td>\n",
              "      <td>1</td>\n",
              "      <td>2</td>\n",
              "      <td>70.70</td>\n",
              "      <td>151.649994</td>\n",
              "      <td>1</td>\n",
              "    </tr>\n",
              "    <tr>\n",
              "      <th>...</th>\n",
              "      <td>...</td>\n",
              "      <td>...</td>\n",
              "      <td>...</td>\n",
              "      <td>...</td>\n",
              "      <td>...</td>\n",
              "      <td>...</td>\n",
              "      <td>...</td>\n",
              "      <td>...</td>\n",
              "      <td>...</td>\n",
              "      <td>...</td>\n",
              "      <td>...</td>\n",
              "      <td>...</td>\n",
              "      <td>...</td>\n",
              "      <td>...</td>\n",
              "      <td>...</td>\n",
              "      <td>...</td>\n",
              "      <td>...</td>\n",
              "      <td>...</td>\n",
              "      <td>...</td>\n",
              "      <td>...</td>\n",
              "    </tr>\n",
              "    <tr>\n",
              "      <th>7038</th>\n",
              "      <td>1</td>\n",
              "      <td>0</td>\n",
              "      <td>1</td>\n",
              "      <td>1</td>\n",
              "      <td>24</td>\n",
              "      <td>1</td>\n",
              "      <td>2</td>\n",
              "      <td>0</td>\n",
              "      <td>2</td>\n",
              "      <td>0</td>\n",
              "      <td>2</td>\n",
              "      <td>2</td>\n",
              "      <td>2</td>\n",
              "      <td>2</td>\n",
              "      <td>1</td>\n",
              "      <td>1</td>\n",
              "      <td>3</td>\n",
              "      <td>84.80</td>\n",
              "      <td>1990.500000</td>\n",
              "      <td>0</td>\n",
              "    </tr>\n",
              "    <tr>\n",
              "      <th>7039</th>\n",
              "      <td>0</td>\n",
              "      <td>0</td>\n",
              "      <td>1</td>\n",
              "      <td>1</td>\n",
              "      <td>72</td>\n",
              "      <td>1</td>\n",
              "      <td>2</td>\n",
              "      <td>1</td>\n",
              "      <td>0</td>\n",
              "      <td>2</td>\n",
              "      <td>2</td>\n",
              "      <td>0</td>\n",
              "      <td>2</td>\n",
              "      <td>2</td>\n",
              "      <td>1</td>\n",
              "      <td>1</td>\n",
              "      <td>1</td>\n",
              "      <td>103.20</td>\n",
              "      <td>7362.899902</td>\n",
              "      <td>0</td>\n",
              "    </tr>\n",
              "    <tr>\n",
              "      <th>7040</th>\n",
              "      <td>0</td>\n",
              "      <td>0</td>\n",
              "      <td>1</td>\n",
              "      <td>1</td>\n",
              "      <td>11</td>\n",
              "      <td>0</td>\n",
              "      <td>1</td>\n",
              "      <td>0</td>\n",
              "      <td>2</td>\n",
              "      <td>0</td>\n",
              "      <td>0</td>\n",
              "      <td>0</td>\n",
              "      <td>0</td>\n",
              "      <td>0</td>\n",
              "      <td>0</td>\n",
              "      <td>1</td>\n",
              "      <td>2</td>\n",
              "      <td>29.60</td>\n",
              "      <td>346.450012</td>\n",
              "      <td>0</td>\n",
              "    </tr>\n",
              "    <tr>\n",
              "      <th>7041</th>\n",
              "      <td>1</td>\n",
              "      <td>1</td>\n",
              "      <td>1</td>\n",
              "      <td>0</td>\n",
              "      <td>4</td>\n",
              "      <td>1</td>\n",
              "      <td>2</td>\n",
              "      <td>1</td>\n",
              "      <td>0</td>\n",
              "      <td>0</td>\n",
              "      <td>0</td>\n",
              "      <td>0</td>\n",
              "      <td>0</td>\n",
              "      <td>0</td>\n",
              "      <td>0</td>\n",
              "      <td>1</td>\n",
              "      <td>3</td>\n",
              "      <td>74.40</td>\n",
              "      <td>306.600006</td>\n",
              "      <td>1</td>\n",
              "    </tr>\n",
              "    <tr>\n",
              "      <th>7042</th>\n",
              "      <td>1</td>\n",
              "      <td>0</td>\n",
              "      <td>0</td>\n",
              "      <td>0</td>\n",
              "      <td>66</td>\n",
              "      <td>1</td>\n",
              "      <td>0</td>\n",
              "      <td>1</td>\n",
              "      <td>2</td>\n",
              "      <td>0</td>\n",
              "      <td>2</td>\n",
              "      <td>2</td>\n",
              "      <td>2</td>\n",
              "      <td>2</td>\n",
              "      <td>2</td>\n",
              "      <td>1</td>\n",
              "      <td>0</td>\n",
              "      <td>105.65</td>\n",
              "      <td>6844.500000</td>\n",
              "      <td>0</td>\n",
              "    </tr>\n",
              "  </tbody>\n",
              "</table>\n",
              "<p>7043 rows × 20 columns</p>\n",
              "</div>\n",
              "    <div class=\"colab-df-buttons\">\n",
              "\n",
              "  <div class=\"colab-df-container\">\n",
              "    <button class=\"colab-df-convert\" onclick=\"convertToInteractive('df-f492a033-5b3e-41f7-a447-f859a4a72e28')\"\n",
              "            title=\"Convert this dataframe to an interactive table.\"\n",
              "            style=\"display:none;\">\n",
              "\n",
              "  <svg xmlns=\"http://www.w3.org/2000/svg\" height=\"24px\" viewBox=\"0 -960 960 960\">\n",
              "    <path d=\"M120-120v-720h720v720H120Zm60-500h600v-160H180v160Zm220 220h160v-160H400v160Zm0 220h160v-160H400v160ZM180-400h160v-160H180v160Zm440 0h160v-160H620v160ZM180-180h160v-160H180v160Zm440 0h160v-160H620v160Z\"/>\n",
              "  </svg>\n",
              "    </button>\n",
              "\n",
              "  <style>\n",
              "    .colab-df-container {\n",
              "      display:flex;\n",
              "      gap: 12px;\n",
              "    }\n",
              "\n",
              "    .colab-df-convert {\n",
              "      background-color: #E8F0FE;\n",
              "      border: none;\n",
              "      border-radius: 50%;\n",
              "      cursor: pointer;\n",
              "      display: none;\n",
              "      fill: #1967D2;\n",
              "      height: 32px;\n",
              "      padding: 0 0 0 0;\n",
              "      width: 32px;\n",
              "    }\n",
              "\n",
              "    .colab-df-convert:hover {\n",
              "      background-color: #E2EBFA;\n",
              "      box-shadow: 0px 1px 2px rgba(60, 64, 67, 0.3), 0px 1px 3px 1px rgba(60, 64, 67, 0.15);\n",
              "      fill: #174EA6;\n",
              "    }\n",
              "\n",
              "    .colab-df-buttons div {\n",
              "      margin-bottom: 4px;\n",
              "    }\n",
              "\n",
              "    [theme=dark] .colab-df-convert {\n",
              "      background-color: #3B4455;\n",
              "      fill: #D2E3FC;\n",
              "    }\n",
              "\n",
              "    [theme=dark] .colab-df-convert:hover {\n",
              "      background-color: #434B5C;\n",
              "      box-shadow: 0px 1px 3px 1px rgba(0, 0, 0, 0.15);\n",
              "      filter: drop-shadow(0px 1px 2px rgba(0, 0, 0, 0.3));\n",
              "      fill: #FFFFFF;\n",
              "    }\n",
              "  </style>\n",
              "\n",
              "    <script>\n",
              "      const buttonEl =\n",
              "        document.querySelector('#df-f492a033-5b3e-41f7-a447-f859a4a72e28 button.colab-df-convert');\n",
              "      buttonEl.style.display =\n",
              "        google.colab.kernel.accessAllowed ? 'block' : 'none';\n",
              "\n",
              "      async function convertToInteractive(key) {\n",
              "        const element = document.querySelector('#df-f492a033-5b3e-41f7-a447-f859a4a72e28');\n",
              "        const dataTable =\n",
              "          await google.colab.kernel.invokeFunction('convertToInteractive',\n",
              "                                                    [key], {});\n",
              "        if (!dataTable) return;\n",
              "\n",
              "        const docLinkHtml = 'Like what you see? Visit the ' +\n",
              "          '<a target=\"_blank\" href=https://colab.research.google.com/notebooks/data_table.ipynb>data table notebook</a>'\n",
              "          + ' to learn more about interactive tables.';\n",
              "        element.innerHTML = '';\n",
              "        dataTable['output_type'] = 'display_data';\n",
              "        await google.colab.output.renderOutput(dataTable, element);\n",
              "        const docLink = document.createElement('div');\n",
              "        docLink.innerHTML = docLinkHtml;\n",
              "        element.appendChild(docLink);\n",
              "      }\n",
              "    </script>\n",
              "  </div>\n",
              "\n",
              "\n",
              "<div id=\"df-1b5cd827-fd9e-41f0-9e1e-ca2bb80e7d64\">\n",
              "  <button class=\"colab-df-quickchart\" onclick=\"quickchart('df-1b5cd827-fd9e-41f0-9e1e-ca2bb80e7d64')\"\n",
              "            title=\"Suggest charts\"\n",
              "            style=\"display:none;\">\n",
              "\n",
              "<svg xmlns=\"http://www.w3.org/2000/svg\" height=\"24px\"viewBox=\"0 0 24 24\"\n",
              "     width=\"24px\">\n",
              "    <g>\n",
              "        <path d=\"M19 3H5c-1.1 0-2 .9-2 2v14c0 1.1.9 2 2 2h14c1.1 0 2-.9 2-2V5c0-1.1-.9-2-2-2zM9 17H7v-7h2v7zm4 0h-2V7h2v10zm4 0h-2v-4h2v4z\"/>\n",
              "    </g>\n",
              "</svg>\n",
              "  </button>\n",
              "\n",
              "<style>\n",
              "  .colab-df-quickchart {\n",
              "      --bg-color: #E8F0FE;\n",
              "      --fill-color: #1967D2;\n",
              "      --hover-bg-color: #E2EBFA;\n",
              "      --hover-fill-color: #174EA6;\n",
              "      --disabled-fill-color: #AAA;\n",
              "      --disabled-bg-color: #DDD;\n",
              "  }\n",
              "\n",
              "  [theme=dark] .colab-df-quickchart {\n",
              "      --bg-color: #3B4455;\n",
              "      --fill-color: #D2E3FC;\n",
              "      --hover-bg-color: #434B5C;\n",
              "      --hover-fill-color: #FFFFFF;\n",
              "      --disabled-bg-color: #3B4455;\n",
              "      --disabled-fill-color: #666;\n",
              "  }\n",
              "\n",
              "  .colab-df-quickchart {\n",
              "    background-color: var(--bg-color);\n",
              "    border: none;\n",
              "    border-radius: 50%;\n",
              "    cursor: pointer;\n",
              "    display: none;\n",
              "    fill: var(--fill-color);\n",
              "    height: 32px;\n",
              "    padding: 0;\n",
              "    width: 32px;\n",
              "  }\n",
              "\n",
              "  .colab-df-quickchart:hover {\n",
              "    background-color: var(--hover-bg-color);\n",
              "    box-shadow: 0 1px 2px rgba(60, 64, 67, 0.3), 0 1px 3px 1px rgba(60, 64, 67, 0.15);\n",
              "    fill: var(--button-hover-fill-color);\n",
              "  }\n",
              "\n",
              "  .colab-df-quickchart-complete:disabled,\n",
              "  .colab-df-quickchart-complete:disabled:hover {\n",
              "    background-color: var(--disabled-bg-color);\n",
              "    fill: var(--disabled-fill-color);\n",
              "    box-shadow: none;\n",
              "  }\n",
              "\n",
              "  .colab-df-spinner {\n",
              "    border: 2px solid var(--fill-color);\n",
              "    border-color: transparent;\n",
              "    border-bottom-color: var(--fill-color);\n",
              "    animation:\n",
              "      spin 1s steps(1) infinite;\n",
              "  }\n",
              "\n",
              "  @keyframes spin {\n",
              "    0% {\n",
              "      border-color: transparent;\n",
              "      border-bottom-color: var(--fill-color);\n",
              "      border-left-color: var(--fill-color);\n",
              "    }\n",
              "    20% {\n",
              "      border-color: transparent;\n",
              "      border-left-color: var(--fill-color);\n",
              "      border-top-color: var(--fill-color);\n",
              "    }\n",
              "    30% {\n",
              "      border-color: transparent;\n",
              "      border-left-color: var(--fill-color);\n",
              "      border-top-color: var(--fill-color);\n",
              "      border-right-color: var(--fill-color);\n",
              "    }\n",
              "    40% {\n",
              "      border-color: transparent;\n",
              "      border-right-color: var(--fill-color);\n",
              "      border-top-color: var(--fill-color);\n",
              "    }\n",
              "    60% {\n",
              "      border-color: transparent;\n",
              "      border-right-color: var(--fill-color);\n",
              "    }\n",
              "    80% {\n",
              "      border-color: transparent;\n",
              "      border-right-color: var(--fill-color);\n",
              "      border-bottom-color: var(--fill-color);\n",
              "    }\n",
              "    90% {\n",
              "      border-color: transparent;\n",
              "      border-bottom-color: var(--fill-color);\n",
              "    }\n",
              "  }\n",
              "</style>\n",
              "\n",
              "  <script>\n",
              "    async function quickchart(key) {\n",
              "      const quickchartButtonEl =\n",
              "        document.querySelector('#' + key + ' button');\n",
              "      quickchartButtonEl.disabled = true;  // To prevent multiple clicks.\n",
              "      quickchartButtonEl.classList.add('colab-df-spinner');\n",
              "      try {\n",
              "        const charts = await google.colab.kernel.invokeFunction(\n",
              "            'suggestCharts', [key], {});\n",
              "      } catch (error) {\n",
              "        console.error('Error during call to suggestCharts:', error);\n",
              "      }\n",
              "      quickchartButtonEl.classList.remove('colab-df-spinner');\n",
              "      quickchartButtonEl.classList.add('colab-df-quickchart-complete');\n",
              "    }\n",
              "    (() => {\n",
              "      let quickchartButtonEl =\n",
              "        document.querySelector('#df-1b5cd827-fd9e-41f0-9e1e-ca2bb80e7d64 button');\n",
              "      quickchartButtonEl.style.display =\n",
              "        google.colab.kernel.accessAllowed ? 'block' : 'none';\n",
              "    })();\n",
              "  </script>\n",
              "</div>\n",
              "    </div>\n",
              "  </div>\n"
            ]
          },
          "metadata": {},
          "execution_count": 60
        }
      ],
      "source": [
        "data"
      ]
    },
    {
      "cell_type": "code",
      "execution_count": 61,
      "metadata": {
        "id": "0JunB3iUeSwc",
        "colab": {
          "base_uri": "https://localhost:8080/"
        },
        "outputId": "dac098d6-a26f-4a5e-e3bf-1f1830709ddc"
      },
      "outputs": [
        {
          "output_type": "execute_result",
          "data": {
            "text/plain": [
              "Index(['Contract', 'tenure', 'OnlineSecurity', 'TechSupport', 'TotalCharges',\n",
              "       'OnlineBackup'],\n",
              "      dtype='object')"
            ]
          },
          "metadata": {},
          "execution_count": 61
        }
      ],
      "source": [
        "correlation_matrix = data.corr()\n",
        "important_features = correlation_matrix[\"Churn\"].abs().sort_values(ascending=False)\n",
        "selected_features = important_features[1:7].index\n",
        "\n",
        "selected_features\n"
      ]
    },
    {
      "cell_type": "code",
      "execution_count": 62,
      "metadata": {
        "id": "8c9WLQ9JlnPx",
        "colab": {
          "base_uri": "https://localhost:8080/",
          "height": 1000
        },
        "outputId": "8bc4b2ed-428b-4a94-eaea-0dc9aac26e57"
      },
      "outputs": [
        {
          "output_type": "display_data",
          "data": {
            "text/plain": [
              "<Figure size 640x480 with 1 Axes>"
            ],
            "image/png": "[encoded data removed]"
          },
          "metadata": {}
        },
        {
          "output_type": "stream",
          "name": "stdout",
          "text": [
            "It shows that when the total charges are lower, the churn is higher\n",
            "\n",
            "\n"
          ]
        },
        {
          "output_type": "display_data",
          "data": {
            "text/plain": [
              "<Figure size 640x480 with 1 Axes>"
            ],
            "image/png": "[encoded data removed]"
          },
          "metadata": {}
        },
        {
          "output_type": "stream",
          "name": "stdout",
          "text": [
            "It shows that month to month contracts have the most churns\n",
            "\n",
            "\n"
          ]
        },
        {
          "output_type": "display_data",
          "data": {
            "text/plain": [
              "<Figure size 640x480 with 1 Axes>"
            ],
            "image/png": "[encoded data removed]"
          },
          "metadata": {}
        },
        {
          "output_type": "stream",
          "name": "stdout",
          "text": [
            "It shows that shorter tenures have more churns\n",
            "\n",
            "\n"
          ]
        },
        {
          "output_type": "display_data",
          "data": {
            "text/plain": [
              "<Figure size 640x480 with 1 Axes>"
            ],
            "image/png": "[encoded data removed]"
          },
          "metadata": {}
        },
        {
          "output_type": "stream",
          "name": "stdout",
          "text": [
            "It shows that no online security has the most churns\n",
            "\n",
            "\n"
          ]
        },
        {
          "output_type": "display_data",
          "data": {
            "text/plain": [
              "<Figure size 640x480 with 1 Axes>"
            ],
            "image/png": "[encoded data removed]"
          },
          "metadata": {}
        },
        {
          "output_type": "stream",
          "name": "stdout",
          "text": [
            "It shows that no tech support has the most churns\n",
            "\n",
            "\n"
          ]
        },
        {
          "output_type": "display_data",
          "data": {
            "text/plain": [
              "<Figure size 640x480 with 1 Axes>"
            ],
            "image/png": "[encoded data removed]"
          },
          "metadata": {}
        },
        {
          "output_type": "stream",
          "name": "stdout",
          "text": [
            "It shows that when there is no online backup there are more churns\n",
            "\n",
            "\n"
          ]
        }
      ],
      "source": [
        "# Visualize distribution of 'TotalCharges' for churned and non-churned customers\n",
        "sns.boxplot(x='Churn', y='TotalCharges', data=new_data)\n",
        "plt.show()\n",
        "print(\"It shows that when the total charges are lower, the churn is higher\")\n",
        "print()\n",
        "print()\n",
        "\n",
        "# Visualize the relationship between 'Contract' and churn\n",
        "sns.countplot(x='Contract', hue='Churn', data=new_data)\n",
        "plt.show()\n",
        "print(\"It shows that month to month contracts have the most churns\")\n",
        "print()\n",
        "print()\n",
        "\n",
        "# Visualize the relationship between 'tenure' and churn\n",
        "sns.boxplot(x='Churn', y='tenure', data=new_data)\n",
        "plt.show()\n",
        "print(\"It shows that shorter tenures have more churns\")\n",
        "print()\n",
        "print()\n",
        "\n",
        "# Visualize the relationship between 'OnlineSecurity' and churn\n",
        "sns.countplot(x='OnlineSecurity', hue='Churn', data=new_data)\n",
        "plt.show()\n",
        "print(\"It shows that no online security has the most churns\")\n",
        "print()\n",
        "print()\n",
        "\n",
        "# Visualize the relationship between 'TechSupport' and churn\n",
        "sns.countplot(x='TechSupport', hue='Churn', data=new_data)\n",
        "plt.show()\n",
        "print(\"It shows that no tech support has the most churns\")\n",
        "print()\n",
        "print()\n",
        "\n",
        "# Visualize the relationship between 'OnlineBackup' and churn\n",
        "sns.countplot(x='OnlineBackup', hue='Churn', data=new_data)\n",
        "plt.show()\n",
        "print(\"It shows that when there is no online backup there are more churns\")\n",
        "print()\n",
        "print()"
      ]
    },
    {
      "cell_type": "code",
      "execution_count": 63,
      "metadata": {
        "id": "gblMtkIzQt45"
      },
      "outputs": [],
      "source": [
        "y = data['Churn']\n",
        "X = data[selected_features]"
      ]
    },
    {
      "cell_type": "code",
      "execution_count": 64,
      "metadata": {
        "id": "a19bORyNTv31",
        "colab": {
          "base_uri": "https://localhost:8080/"
        },
        "outputId": "f8ded14e-5f7d-4228-ac1f-284f38395edd"
      },
      "outputs": [
        {
          "output_type": "execute_result",
          "data": {
            "text/plain": [
              "Index(['Contract', 'tenure', 'OnlineSecurity', 'TechSupport', 'TotalCharges',\n",
              "       'OnlineBackup'],\n",
              "      dtype='object')"
            ]
          },
          "metadata": {},
          "execution_count": 64
        }
      ],
      "source": [
        "selected_features"
      ]
    },
    {
      "cell_type": "code",
      "execution_count": 65,
      "metadata": {
        "id": "E3wYoYU7Qt6u"
      },
      "outputs": [],
      "source": [
        "scaler = StandardScaler()\n",
        "\n",
        "X_scaled = scaler.fit_transform(X.copy())\n",
        "\n",
        "\n",
        "X_scaled_df = pd.DataFrame(X_scaled, columns=X.columns)\n",
        "\n",
        "data = pd.concat([X_scaled_df, y], axis=1)"
      ]
    },
    {
      "cell_type": "code",
      "execution_count": 66,
      "metadata": {
        "id": "1O7tHeNH00bJ"
      },
      "outputs": [],
      "source": [
        "X_train, X_test, y_train, y_test = train_test_split(X, y, test_size=0.2, random_state=42)"
      ]
    },
    {
      "cell_type": "code",
      "execution_count": 67,
      "metadata": {
        "id": "X9N0dbFn03SM"
      },
      "outputs": [],
      "source": [
        "import keras\n",
        "from keras.models import Model\n",
        "from keras.layers import Input, Dense\n",
        "from keras.optimizers import Adam\n",
        "from keras.utils import to_categorical\n"
      ]
    },
    {
      "cell_type": "code",
      "execution_count": 68,
      "metadata": {
        "id": "kD6yitok00jL"
      },
      "outputs": [],
      "source": [
        "# Keras Functional API model\n",
        "\n",
        "#Input layer\n",
        "input_layer = Input(shape=(X_train.shape[1],))\n",
        "\n",
        "#Hidden layer\n",
        "hidden_layer_1 = Dense(32, activation='relu')(input_layer)\n",
        "hidden_layer_2 = Dense(24, activation='relu')(hidden_layer_1)\n",
        "hidden_layer_3 = Dense(12, activation='relu')(hidden_layer_2)\n",
        "\n",
        "\n",
        "#)Outputvlayer\n",
        "output_layer = Dense(1, activation='sigmoid')(hidden_layer_3)\n",
        "\n",
        "model = Model(inputs=input_layer, outputs=output_layer)"
      ]
    },
    {
      "cell_type": "code",
      "execution_count": 69,
      "metadata": {
        "id": "mRY1h8_93T7E",
        "colab": {
          "base_uri": "https://localhost:8080/"
        },
        "outputId": "5da68ed8-5f0f-4d2e-bc78-ac72127dd641"
      },
      "outputs": [
        {
          "output_type": "stream",
          "name": "stdout",
          "text": [
            "Epoch 1/120\n",
            "177/177 [==============================] - 3s 8ms/step - loss: 5.4372 - accuracy: 0.6521 - val_loss: 0.5022 - val_accuracy: 0.7239\n",
            "Epoch 2/120\n",
            "177/177 [==============================] - 1s 5ms/step - loss: 0.5675 - accuracy: 0.7002 - val_loss: 0.5138 - val_accuracy: 0.7268\n",
            "Epoch 3/120\n",
            "177/177 [==============================] - 1s 5ms/step - loss: 0.5548 - accuracy: 0.7064 - val_loss: 0.5256 - val_accuracy: 0.6998\n",
            "Epoch 4/120\n",
            "177/177 [==============================] - 1s 4ms/step - loss: 0.5574 - accuracy: 0.7167 - val_loss: 0.5980 - val_accuracy: 0.7282\n",
            "Epoch 5/120\n",
            "177/177 [==============================] - 1s 4ms/step - loss: 0.5866 - accuracy: 0.7290 - val_loss: 0.9446 - val_accuracy: 0.6082\n",
            "Epoch 6/120\n",
            "177/177 [==============================] - 1s 5ms/step - loss: 0.6102 - accuracy: 0.7263 - val_loss: 0.4855 - val_accuracy: 0.7367\n",
            "Epoch 7/120\n",
            "177/177 [==============================] - 1s 7ms/step - loss: 0.6069 - accuracy: 0.7311 - val_loss: 0.5598 - val_accuracy: 0.7757\n",
            "Epoch 8/120\n",
            "177/177 [==============================] - 1s 7ms/step - loss: 0.5700 - accuracy: 0.7483 - val_loss: 0.8252 - val_accuracy: 0.6373\n",
            "Epoch 9/120\n",
            "177/177 [==============================] - 1s 5ms/step - loss: 0.5470 - accuracy: 0.7494 - val_loss: 0.5423 - val_accuracy: 0.7821\n",
            "Epoch 10/120\n",
            "177/177 [==============================] - 1s 6ms/step - loss: 0.5855 - accuracy: 0.7476 - val_loss: 0.4908 - val_accuracy: 0.7857\n",
            "Epoch 11/120\n",
            "177/177 [==============================] - 1s 6ms/step - loss: 0.6338 - accuracy: 0.7501 - val_loss: 0.5564 - val_accuracy: 0.7821\n",
            "Epoch 12/120\n",
            "177/177 [==============================] - 2s 9ms/step - loss: 0.6542 - accuracy: 0.7476 - val_loss: 0.7832 - val_accuracy: 0.6359\n",
            "Epoch 13/120\n",
            "177/177 [==============================] - 1s 7ms/step - loss: 0.5547 - accuracy: 0.7549 - val_loss: 0.4616 - val_accuracy: 0.7899\n",
            "Epoch 14/120\n",
            "177/177 [==============================] - 1s 8ms/step - loss: 0.5356 - accuracy: 0.7588 - val_loss: 0.6960 - val_accuracy: 0.6600\n",
            "Epoch 15/120\n",
            "177/177 [==============================] - 1s 5ms/step - loss: 0.5307 - accuracy: 0.7583 - val_loss: 0.4860 - val_accuracy: 0.7892\n",
            "Epoch 16/120\n",
            "177/177 [==============================] - 1s 7ms/step - loss: 0.5227 - accuracy: 0.7609 - val_loss: 0.5032 - val_accuracy: 0.7282\n",
            "Epoch 17/120\n",
            "177/177 [==============================] - 2s 9ms/step - loss: 0.5323 - accuracy: 0.7604 - val_loss: 0.4326 - val_accuracy: 0.7935\n",
            "Epoch 18/120\n",
            "177/177 [==============================] - 2s 9ms/step - loss: 0.5403 - accuracy: 0.7611 - val_loss: 0.4545 - val_accuracy: 0.7892\n",
            "Epoch 19/120\n",
            "177/177 [==============================] - 1s 8ms/step - loss: 0.5421 - accuracy: 0.7570 - val_loss: 0.5413 - val_accuracy: 0.7871\n",
            "Epoch 20/120\n",
            "177/177 [==============================] - 2s 11ms/step - loss: 0.6044 - accuracy: 0.7531 - val_loss: 0.4284 - val_accuracy: 0.7970\n",
            "Epoch 21/120\n",
            "177/177 [==============================] - 2s 9ms/step - loss: 0.5252 - accuracy: 0.7586 - val_loss: 0.4264 - val_accuracy: 0.7928\n",
            "Epoch 22/120\n",
            "177/177 [==============================] - 1s 6ms/step - loss: 0.5113 - accuracy: 0.7654 - val_loss: 0.5206 - val_accuracy: 0.7814\n",
            "Epoch 23/120\n",
            "177/177 [==============================] - 1s 6ms/step - loss: 0.5085 - accuracy: 0.7680 - val_loss: 0.4632 - val_accuracy: 0.7871\n",
            "Epoch 24/120\n",
            "177/177 [==============================] - 1s 5ms/step - loss: 0.5425 - accuracy: 0.7662 - val_loss: 0.6825 - val_accuracy: 0.6529\n",
            "Epoch 25/120\n",
            "177/177 [==============================] - 1s 5ms/step - loss: 0.5315 - accuracy: 0.7630 - val_loss: 0.5198 - val_accuracy: 0.7076\n",
            "Epoch 26/120\n",
            "177/177 [==============================] - 1s 5ms/step - loss: 0.5496 - accuracy: 0.7613 - val_loss: 0.4252 - val_accuracy: 0.7899\n",
            "Epoch 27/120\n",
            "177/177 [==============================] - 1s 7ms/step - loss: 0.5204 - accuracy: 0.7634 - val_loss: 0.4750 - val_accuracy: 0.7842\n",
            "Epoch 28/120\n",
            "177/177 [==============================] - 1s 5ms/step - loss: 0.5278 - accuracy: 0.7712 - val_loss: 1.0368 - val_accuracy: 0.5855\n",
            "Epoch 29/120\n",
            "177/177 [==============================] - 1s 7ms/step - loss: 0.5594 - accuracy: 0.7604 - val_loss: 0.4951 - val_accuracy: 0.7828\n",
            "Epoch 30/120\n",
            "177/177 [==============================] - 1s 8ms/step - loss: 0.5350 - accuracy: 0.7646 - val_loss: 0.4733 - val_accuracy: 0.7842\n",
            "Epoch 31/120\n",
            "177/177 [==============================] - 2s 11ms/step - loss: 0.5215 - accuracy: 0.7607 - val_loss: 0.5553 - val_accuracy: 0.7828\n",
            "Epoch 32/120\n",
            "177/177 [==============================] - 2s 11ms/step - loss: 0.5794 - accuracy: 0.7630 - val_loss: 1.2458 - val_accuracy: 0.5529\n",
            "Epoch 33/120\n",
            "177/177 [==============================] - 2s 11ms/step - loss: 0.5720 - accuracy: 0.7552 - val_loss: 0.5278 - val_accuracy: 0.7814\n",
            "Epoch 34/120\n",
            "177/177 [==============================] - 2s 12ms/step - loss: 0.5713 - accuracy: 0.7591 - val_loss: 0.7129 - val_accuracy: 0.7835\n",
            "Epoch 35/120\n",
            "177/177 [==============================] - 1s 6ms/step - loss: 0.5233 - accuracy: 0.7604 - val_loss: 0.5000 - val_accuracy: 0.7821\n",
            "Epoch 36/120\n",
            "177/177 [==============================] - 0s 3ms/step - loss: 0.4856 - accuracy: 0.7728 - val_loss: 0.5906 - val_accuracy: 0.6771\n",
            "Epoch 37/120\n",
            "177/177 [==============================] - 1s 3ms/step - loss: 0.5277 - accuracy: 0.7678 - val_loss: 0.4378 - val_accuracy: 0.7828\n",
            "Epoch 38/120\n",
            "177/177 [==============================] - 0s 3ms/step - loss: 0.5310 - accuracy: 0.7638 - val_loss: 0.4234 - val_accuracy: 0.7864\n",
            "Epoch 39/120\n",
            "177/177 [==============================] - 0s 3ms/step - loss: 0.5001 - accuracy: 0.7762 - val_loss: 0.4282 - val_accuracy: 0.7892\n",
            "Epoch 40/120\n",
            "177/177 [==============================] - 1s 3ms/step - loss: 0.5010 - accuracy: 0.7694 - val_loss: 0.4268 - val_accuracy: 0.7864\n",
            "Epoch 41/120\n",
            "177/177 [==============================] - 1s 3ms/step - loss: 0.4808 - accuracy: 0.7737 - val_loss: 1.3005 - val_accuracy: 0.5529\n",
            "Epoch 42/120\n",
            "177/177 [==============================] - 1s 3ms/step - loss: 0.5879 - accuracy: 0.7602 - val_loss: 0.5429 - val_accuracy: 0.7842\n",
            "Epoch 43/120\n",
            "177/177 [==============================] - 1s 3ms/step - loss: 0.5229 - accuracy: 0.7673 - val_loss: 0.4149 - val_accuracy: 0.7991\n",
            "Epoch 44/120\n",
            "177/177 [==============================] - 1s 3ms/step - loss: 0.5091 - accuracy: 0.7685 - val_loss: 0.7966 - val_accuracy: 0.6175\n",
            "Epoch 45/120\n",
            "177/177 [==============================] - 1s 3ms/step - loss: 0.5090 - accuracy: 0.7719 - val_loss: 0.4669 - val_accuracy: 0.7835\n",
            "Epoch 46/120\n",
            "177/177 [==============================] - 0s 3ms/step - loss: 0.4986 - accuracy: 0.7721 - val_loss: 0.4623 - val_accuracy: 0.7594\n",
            "Epoch 47/120\n",
            "177/177 [==============================] - 1s 3ms/step - loss: 0.5307 - accuracy: 0.7694 - val_loss: 0.6378 - val_accuracy: 0.7828\n",
            "Epoch 48/120\n",
            "177/177 [==============================] - 0s 3ms/step - loss: 0.5022 - accuracy: 0.7709 - val_loss: 0.4407 - val_accuracy: 0.7814\n",
            "Epoch 49/120\n",
            "177/177 [==============================] - 0s 3ms/step - loss: 0.5499 - accuracy: 0.7723 - val_loss: 0.4637 - val_accuracy: 0.7537\n",
            "Epoch 50/120\n",
            "177/177 [==============================] - 0s 3ms/step - loss: 0.4857 - accuracy: 0.7710 - val_loss: 0.5184 - val_accuracy: 0.7878\n",
            "Epoch 51/120\n",
            "177/177 [==============================] - 0s 3ms/step - loss: 0.5321 - accuracy: 0.7661 - val_loss: 0.6183 - val_accuracy: 0.7842\n",
            "Epoch 52/120\n",
            "177/177 [==============================] - 1s 3ms/step - loss: 0.5092 - accuracy: 0.7629 - val_loss: 0.4164 - val_accuracy: 0.7949\n",
            "Epoch 53/120\n",
            "177/177 [==============================] - 0s 3ms/step - loss: 0.5131 - accuracy: 0.7691 - val_loss: 0.7219 - val_accuracy: 0.6388\n",
            "Epoch 54/120\n",
            "177/177 [==============================] - 1s 4ms/step - loss: 0.5991 - accuracy: 0.7654 - val_loss: 0.4409 - val_accuracy: 0.7814\n",
            "Epoch 55/120\n",
            "177/177 [==============================] - 1s 4ms/step - loss: 0.4966 - accuracy: 0.7756 - val_loss: 0.4509 - val_accuracy: 0.7807\n",
            "Epoch 56/120\n",
            "177/177 [==============================] - 1s 4ms/step - loss: 0.4726 - accuracy: 0.7741 - val_loss: 0.4165 - val_accuracy: 0.7949\n",
            "Epoch 57/120\n",
            "177/177 [==============================] - 1s 4ms/step - loss: 0.5462 - accuracy: 0.7694 - val_loss: 0.4261 - val_accuracy: 0.7942\n",
            "Epoch 58/120\n",
            "177/177 [==============================] - 1s 5ms/step - loss: 0.4856 - accuracy: 0.7748 - val_loss: 0.4559 - val_accuracy: 0.7622\n",
            "Epoch 59/120\n",
            "177/177 [==============================] - 1s 4ms/step - loss: 0.4986 - accuracy: 0.7684 - val_loss: 0.4233 - val_accuracy: 0.7935\n",
            "Epoch 60/120\n",
            "177/177 [==============================] - 1s 4ms/step - loss: 0.5443 - accuracy: 0.7668 - val_loss: 0.4209 - val_accuracy: 0.7921\n",
            "Epoch 61/120\n",
            "177/177 [==============================] - 1s 4ms/step - loss: 0.6130 - accuracy: 0.7547 - val_loss: 0.4779 - val_accuracy: 0.7828\n",
            "Epoch 62/120\n",
            "177/177 [==============================] - 1s 4ms/step - loss: 0.5044 - accuracy: 0.7659 - val_loss: 0.4955 - val_accuracy: 0.7857\n",
            "Epoch 63/120\n",
            "177/177 [==============================] - 1s 5ms/step - loss: 0.4867 - accuracy: 0.7725 - val_loss: 0.4280 - val_accuracy: 0.7906\n",
            "Epoch 64/120\n",
            "177/177 [==============================] - 1s 3ms/step - loss: 0.5352 - accuracy: 0.7650 - val_loss: 0.5597 - val_accuracy: 0.6877\n",
            "Epoch 65/120\n",
            "177/177 [==============================] - 0s 3ms/step - loss: 0.5292 - accuracy: 0.7634 - val_loss: 0.7256 - val_accuracy: 0.7807\n",
            "Epoch 66/120\n",
            "177/177 [==============================] - 0s 3ms/step - loss: 0.5482 - accuracy: 0.7707 - val_loss: 0.4361 - val_accuracy: 0.7871\n",
            "Epoch 67/120\n",
            "177/177 [==============================] - 0s 3ms/step - loss: 0.4882 - accuracy: 0.7739 - val_loss: 0.4662 - val_accuracy: 0.7807\n",
            "Epoch 68/120\n",
            "177/177 [==============================] - 0s 3ms/step - loss: 0.5424 - accuracy: 0.7646 - val_loss: 0.7873 - val_accuracy: 0.7821\n",
            "Epoch 69/120\n",
            "177/177 [==============================] - 1s 3ms/step - loss: 0.5175 - accuracy: 0.7712 - val_loss: 0.4494 - val_accuracy: 0.7814\n",
            "Epoch 70/120\n",
            "177/177 [==============================] - 0s 3ms/step - loss: 0.4913 - accuracy: 0.7703 - val_loss: 1.6357 - val_accuracy: 0.5174\n",
            "Epoch 71/120\n",
            "177/177 [==============================] - 0s 3ms/step - loss: 0.6118 - accuracy: 0.7536 - val_loss: 0.4401 - val_accuracy: 0.7864\n",
            "Epoch 72/120\n",
            "177/177 [==============================] - 0s 3ms/step - loss: 0.5399 - accuracy: 0.7666 - val_loss: 0.4153 - val_accuracy: 0.7963\n",
            "Epoch 73/120\n",
            "177/177 [==============================] - 0s 3ms/step - loss: 0.4821 - accuracy: 0.7741 - val_loss: 0.4313 - val_accuracy: 0.7899\n",
            "Epoch 74/120\n",
            "177/177 [==============================] - 1s 3ms/step - loss: 0.5404 - accuracy: 0.7629 - val_loss: 0.4235 - val_accuracy: 0.7928\n",
            "Epoch 75/120\n",
            "177/177 [==============================] - 0s 3ms/step - loss: 0.5003 - accuracy: 0.7719 - val_loss: 0.5926 - val_accuracy: 0.7850\n",
            "Epoch 76/120\n",
            "177/177 [==============================] - 1s 3ms/step - loss: 0.5590 - accuracy: 0.7654 - val_loss: 0.5521 - val_accuracy: 0.6934\n",
            "Epoch 77/120\n",
            "177/177 [==============================] - 0s 3ms/step - loss: 0.4790 - accuracy: 0.7776 - val_loss: 0.5083 - val_accuracy: 0.7850\n",
            "Epoch 78/120\n",
            "177/177 [==============================] - 1s 3ms/step - loss: 0.4650 - accuracy: 0.7783 - val_loss: 0.4394 - val_accuracy: 0.7736\n",
            "Epoch 79/120\n",
            "177/177 [==============================] - 1s 3ms/step - loss: 0.5129 - accuracy: 0.7760 - val_loss: 0.4547 - val_accuracy: 0.7814\n",
            "Epoch 80/120\n",
            "177/177 [==============================] - 1s 3ms/step - loss: 0.5870 - accuracy: 0.7597 - val_loss: 1.3248 - val_accuracy: 0.5529\n",
            "Epoch 81/120\n",
            "177/177 [==============================] - 0s 3ms/step - loss: 0.5663 - accuracy: 0.7586 - val_loss: 0.4222 - val_accuracy: 0.7956\n",
            "Epoch 82/120\n",
            "177/177 [==============================] - 0s 3ms/step - loss: 0.5109 - accuracy: 0.7700 - val_loss: 0.5390 - val_accuracy: 0.7864\n",
            "Epoch 83/120\n",
            "177/177 [==============================] - 1s 4ms/step - loss: 0.4648 - accuracy: 0.7787 - val_loss: 0.4761 - val_accuracy: 0.7814\n",
            "Epoch 84/120\n",
            "177/177 [==============================] - 1s 4ms/step - loss: 0.4753 - accuracy: 0.7767 - val_loss: 0.4188 - val_accuracy: 0.7949\n",
            "Epoch 85/120\n",
            "177/177 [==============================] - 1s 4ms/step - loss: 0.4915 - accuracy: 0.7693 - val_loss: 0.4154 - val_accuracy: 0.7949\n",
            "Epoch 86/120\n",
            "177/177 [==============================] - 1s 4ms/step - loss: 0.5337 - accuracy: 0.7659 - val_loss: 0.4567 - val_accuracy: 0.7814\n",
            "Epoch 87/120\n",
            "177/177 [==============================] - 1s 4ms/step - loss: 0.5550 - accuracy: 0.7613 - val_loss: 0.4414 - val_accuracy: 0.7857\n",
            "Epoch 88/120\n",
            "177/177 [==============================] - 1s 4ms/step - loss: 0.4986 - accuracy: 0.7654 - val_loss: 0.4188 - val_accuracy: 0.7935\n",
            "Epoch 89/120\n",
            "177/177 [==============================] - 1s 4ms/step - loss: 0.4848 - accuracy: 0.7675 - val_loss: 0.4591 - val_accuracy: 0.7800\n",
            "Epoch 90/120\n",
            "177/177 [==============================] - 1s 4ms/step - loss: 0.4990 - accuracy: 0.7684 - val_loss: 0.4288 - val_accuracy: 0.7913\n",
            "Epoch 91/120\n",
            "177/177 [==============================] - 1s 5ms/step - loss: 0.5348 - accuracy: 0.7670 - val_loss: 0.4431 - val_accuracy: 0.7842\n",
            "Epoch 92/120\n",
            "177/177 [==============================] - 1s 4ms/step - loss: 0.5191 - accuracy: 0.7682 - val_loss: 0.5429 - val_accuracy: 0.7850\n",
            "Epoch 93/120\n",
            "177/177 [==============================] - 0s 3ms/step - loss: 0.5085 - accuracy: 0.7719 - val_loss: 0.4195 - val_accuracy: 0.7949\n",
            "Epoch 94/120\n",
            "177/177 [==============================] - 1s 3ms/step - loss: 0.5193 - accuracy: 0.7668 - val_loss: 0.5911 - val_accuracy: 0.6820\n",
            "Epoch 95/120\n",
            "177/177 [==============================] - 0s 3ms/step - loss: 0.5658 - accuracy: 0.7575 - val_loss: 0.4244 - val_accuracy: 0.7935\n",
            "Epoch 96/120\n",
            "177/177 [==============================] - 1s 3ms/step - loss: 0.4715 - accuracy: 0.7756 - val_loss: 0.5674 - val_accuracy: 0.6884\n",
            "Epoch 97/120\n",
            "177/177 [==============================] - 0s 3ms/step - loss: 0.5153 - accuracy: 0.7634 - val_loss: 1.4404 - val_accuracy: 0.5337\n",
            "Epoch 98/120\n",
            "177/177 [==============================] - 1s 3ms/step - loss: 0.6366 - accuracy: 0.7568 - val_loss: 1.4132 - val_accuracy: 0.5366\n",
            "Epoch 99/120\n",
            "177/177 [==============================] - 0s 3ms/step - loss: 0.5655 - accuracy: 0.7597 - val_loss: 0.4509 - val_accuracy: 0.7814\n",
            "Epoch 100/120\n",
            "177/177 [==============================] - 0s 3ms/step - loss: 0.4708 - accuracy: 0.7756 - val_loss: 0.4207 - val_accuracy: 0.7928\n",
            "Epoch 101/120\n",
            "177/177 [==============================] - 1s 3ms/step - loss: 0.4992 - accuracy: 0.7678 - val_loss: 0.4814 - val_accuracy: 0.7828\n",
            "Epoch 102/120\n",
            "177/177 [==============================] - 1s 3ms/step - loss: 0.5035 - accuracy: 0.7732 - val_loss: 0.5267 - val_accuracy: 0.7111\n",
            "Epoch 103/120\n",
            "177/177 [==============================] - 1s 3ms/step - loss: 0.4836 - accuracy: 0.7742 - val_loss: 0.4177 - val_accuracy: 0.7977\n",
            "Epoch 104/120\n",
            "177/177 [==============================] - 0s 3ms/step - loss: 0.5807 - accuracy: 0.7616 - val_loss: 0.7503 - val_accuracy: 0.7807\n",
            "Epoch 105/120\n",
            "177/177 [==============================] - 0s 3ms/step - loss: 0.5637 - accuracy: 0.7607 - val_loss: 0.4410 - val_accuracy: 0.7708\n",
            "Epoch 106/120\n",
            "177/177 [==============================] - 0s 3ms/step - loss: 0.4775 - accuracy: 0.7726 - val_loss: 0.4496 - val_accuracy: 0.7828\n",
            "Epoch 107/120\n",
            "177/177 [==============================] - 0s 3ms/step - loss: 0.4771 - accuracy: 0.7739 - val_loss: 0.4678 - val_accuracy: 0.7800\n",
            "Epoch 108/120\n",
            "177/177 [==============================] - 1s 3ms/step - loss: 0.5361 - accuracy: 0.7703 - val_loss: 0.5394 - val_accuracy: 0.7864\n",
            "Epoch 109/120\n",
            "177/177 [==============================] - 1s 3ms/step - loss: 0.4963 - accuracy: 0.7725 - val_loss: 0.5964 - val_accuracy: 0.7857\n",
            "Epoch 110/120\n",
            "177/177 [==============================] - 1s 3ms/step - loss: 0.4959 - accuracy: 0.7710 - val_loss: 0.4562 - val_accuracy: 0.7615\n",
            "Epoch 111/120\n",
            "177/177 [==============================] - 1s 3ms/step - loss: 0.5221 - accuracy: 0.7716 - val_loss: 0.4290 - val_accuracy: 0.7921\n",
            "Epoch 112/120\n",
            "177/177 [==============================] - 1s 5ms/step - loss: 0.5279 - accuracy: 0.7650 - val_loss: 0.5593 - val_accuracy: 0.6927\n",
            "Epoch 113/120\n",
            "177/177 [==============================] - 1s 4ms/step - loss: 0.5453 - accuracy: 0.7677 - val_loss: 0.6123 - val_accuracy: 0.7828\n",
            "Epoch 114/120\n",
            "177/177 [==============================] - 1s 4ms/step - loss: 0.5977 - accuracy: 0.7600 - val_loss: 0.4258 - val_accuracy: 0.7949\n",
            "Epoch 115/120\n",
            "177/177 [==============================] - 1s 4ms/step - loss: 0.5096 - accuracy: 0.7737 - val_loss: 2.2927 - val_accuracy: 0.4897\n",
            "Epoch 116/120\n",
            "177/177 [==============================] - 1s 4ms/step - loss: 0.6012 - accuracy: 0.7684 - val_loss: 0.4320 - val_accuracy: 0.7928\n",
            "Epoch 117/120\n",
            "177/177 [==============================] - 1s 4ms/step - loss: 0.4736 - accuracy: 0.7753 - val_loss: 1.3228 - val_accuracy: 0.5536\n",
            "Epoch 118/120\n",
            "177/177 [==============================] - 1s 4ms/step - loss: 0.6219 - accuracy: 0.7552 - val_loss: 0.5162 - val_accuracy: 0.7821\n",
            "Epoch 119/120\n",
            "177/177 [==============================] - 1s 4ms/step - loss: 0.4814 - accuracy: 0.7710 - val_loss: 0.6859 - val_accuracy: 0.6494\n",
            "Epoch 120/120\n",
            "177/177 [==============================] - 1s 4ms/step - loss: 0.5396 - accuracy: 0.7668 - val_loss: 0.7417 - val_accuracy: 0.7807\n"
          ]
        },
        {
          "output_type": "execute_result",
          "data": {
            "text/plain": [
              "<keras.src.callbacks.History at 0x7f8ad7839a80>"
            ]
          },
          "metadata": {},
          "execution_count": 69
        }
      ],
      "source": [
        "model.compile(optimizer=Adam(learning_rate=0.0001), loss='binary_crossentropy', metrics=['accuracy'])\n",
        "\n",
        "model.fit(X_train, y_train, epochs=120, batch_size=32, validation_data=(X_test, y_test))"
      ]
    },
    {
      "cell_type": "code",
      "execution_count": 70,
      "metadata": {
        "id": "tDSQxa2T3T-H",
        "colab": {
          "base_uri": "https://localhost:8080/"
        },
        "outputId": "d3641096-c898-4ec5-a31a-58dfbcdf48e8"
      },
      "outputs": [
        {
          "output_type": "stream",
          "name": "stdout",
          "text": [
            "177/177 [==============================] - 1s 4ms/step - loss: 0.8082 - accuracy: 0.7760\n"
          ]
        },
        {
          "output_type": "execute_result",
          "data": {
            "text/plain": [
              "77.6002824306488"
            ]
          },
          "metadata": {},
          "execution_count": 70
        }
      ],
      "source": [
        "_, accuracy = model.evaluate(X_train, y_train)\n",
        "accuracy*100"
      ]
    },
    {
      "cell_type": "code",
      "execution_count": 71,
      "metadata": {
        "id": "S0loLUgK4nmS",
        "colab": {
          "base_uri": "https://localhost:8080/"
        },
        "outputId": "c70f67e0-6787-4108-a16c-172f7e9a9ce6"
      },
      "outputs": [
        {
          "output_type": "stream",
          "name": "stdout",
          "text": [
            "45/45 [==============================] - 0s 2ms/step - loss: 0.7417 - accuracy: 0.7807\n",
            "Test Loss: 0.7417\n",
            "Test Accuracy: 78.0696\n"
          ]
        }
      ],
      "source": [
        "loss, accuracy = model.evaluate(X_test, y_test)\n",
        "print(f'Test Loss: {loss:.4f}')\n",
        "print(f'Test Accuracy: {accuracy*100:.4f}')"
      ]
    },
    {
      "cell_type": "code",
      "execution_count": 72,
      "metadata": {
        "id": "gZu1phKL4n5w",
        "colab": {
          "base_uri": "https://localhost:8080/"
        },
        "outputId": "444c363f-442d-48cb-c3fa-697e3c4a33a6"
      },
      "outputs": [
        {
          "output_type": "stream",
          "name": "stdout",
          "text": [
            "Requirement already satisfied: keras in /usr/local/lib/python3.10/dist-packages (2.14.0)\n",
            "Collecting tuner\n",
            "  Using cached tuner-1.0.0b2-py3-none-any.whl (13 kB)\n",
            "Collecting kivy (from tuner)\n",
            "  Using cached Kivy-2.2.1-cp310-cp310-manylinux_2_17_x86_64.manylinux2014_x86_64.whl (18.9 MB)\n",
            "Collecting pymlconf (from tuner)\n",
            "  Using cached pymlconf-3.0.1-py3-none-any.whl\n",
            "Collecting pyaudio (from tuner)\n",
            "  Using cached PyAudio-0.2.14.tar.gz (47 kB)\n",
            "  Installing build dependencies ... \u001b[?25l\u001b[?25hdone\n",
            "  Getting requirements to build wheel ... \u001b[?25l\u001b[?25hdone\n",
            "  Preparing metadata (pyproject.toml) ... \u001b[?25l\u001b[?25hdone\n",
            "Requirement already satisfied: numpy in /usr/local/lib/python3.10/dist-packages (from tuner) (1.23.5)\n",
            "Requirement already satisfied: scipy in /usr/local/lib/python3.10/dist-packages (from tuner) (1.11.3)\n",
            "Requirement already satisfied: pygame in /usr/local/lib/python3.10/dist-packages (from tuner) (2.5.2)\n",
            "Collecting Kivy-Garden>=0.1.4 (from kivy->tuner)\n",
            "  Using cached Kivy_Garden-0.1.5-py3-none-any.whl (4.6 kB)\n",
            "Requirement already satisfied: docutils in /usr/local/lib/python3.10/dist-packages (from kivy->tuner) (0.18.1)\n",
            "Requirement already satisfied: pygments in /usr/local/lib/python3.10/dist-packages (from kivy->tuner) (2.16.1)\n",
            "Requirement already satisfied: pyyaml>=5.3 in /usr/local/lib/python3.10/dist-packages (from pymlconf->tuner) (6.0.1)\n",
            "Requirement already satisfied: requests in /usr/local/lib/python3.10/dist-packages (from Kivy-Garden>=0.1.4->kivy->tuner) (2.31.0)\n",
            "Requirement already satisfied: charset-normalizer<4,>=2 in /usr/local/lib/python3.10/dist-packages (from requests->Kivy-Garden>=0.1.4->kivy->tuner) (3.3.2)\n",
            "Requirement already satisfied: idna<4,>=2.5 in /usr/local/lib/python3.10/dist-packages (from requests->Kivy-Garden>=0.1.4->kivy->tuner) (3.4)\n",
            "Requirement already satisfied: urllib3<3,>=1.21.1 in /usr/local/lib/python3.10/dist-packages (from requests->Kivy-Garden>=0.1.4->kivy->tuner) (2.0.7)\n",
            "Requirement already satisfied: certifi>=2017.4.17 in /usr/local/lib/python3.10/dist-packages (from requests->Kivy-Garden>=0.1.4->kivy->tuner) (2023.7.22)\n",
            "Building wheels for collected packages: pyaudio\n",
            "  \u001b[1;31merror\u001b[0m: \u001b[1msubprocess-exited-with-error\u001b[0m\n",
            "  \n",
            "  \u001b[31m×\u001b[0m \u001b[32mBuilding wheel for pyaudio \u001b[0m\u001b[1;32m(\u001b[0m\u001b[32mpyproject.toml\u001b[0m\u001b[1;32m)\u001b[0m did not run successfully.\n",
            "  \u001b[31m│\u001b[0m exit code: \u001b[1;36m1\u001b[0m\n",
            "  \u001b[31m╰─>\u001b[0m See above for output.\n",
            "  \n",
            "  \u001b[1;35mnote\u001b[0m: This error originates from a subprocess, and is likely not a problem with pip.\n",
            "  Building wheel for pyaudio (pyproject.toml) ... \u001b[?25l\u001b[?25herror\n",
            "\u001b[31m  ERROR: Failed building wheel for pyaudio\u001b[0m\u001b[31m\n",
            "\u001b[0mFailed to build pyaudio\n",
            "\u001b[31mERROR: Could not build wheels for pyaudio, which is required to install pyproject.toml-based projects\u001b[0m\u001b[31m\n",
            "\u001b[0m"
          ]
        }
      ],
      "source": [
        "!pip install keras tuner"
      ]
    },
    {
      "cell_type": "code",
      "source": [
        "from tensorflow import keras\n",
        "from tensorflow.keras import layers\n",
        "\n",
        "def build_model(hp):\n",
        "    model = keras.Sequential()\n",
        "    model.add(layers.InputLayer(input_shape=(X_train.shape[1],)))\n",
        "\n",
        "    # Tune the number of hidden layers and units\n",
        "    for i in range(hp.Int('num_hidden_layers', min_value=1, max_value=4)):\n",
        "        units = hp.Int(f'units_{i}', min_value=32, max_value=96, step=32)\n",
        "        activation = hp.Choice(f'activation_{i}', values=['relu', 'tanh'])\n",
        "        model.add(layers.Dense(units=units, activation=activation))\n",
        "\n",
        "    model.add(layers.Dense(1, activation='sigmoid'))\n",
        "\n",
        "    # Tune the learning rate\n",
        "    learning_rate = hp.Float(\"lr\", min_value=1e-4, max_value=1e-2, sampling=\"log\")\n",
        "    optimizer = keras.optimizers.Adam(learning_rate=learning_rate)\n",
        "\n",
        "    model.compile(\n",
        "        optimizer=optimizer,\n",
        "        loss='binary_crossentropy',\n",
        "        metrics=['accuracy']\n",
        "    )\n",
        "\n",
        "    return model\n"
      ],
      "metadata": {
        "id": "jOoeNTqu0u8k"
      },
      "execution_count": 73,
      "outputs": []
    },
    {
      "cell_type": "code",
      "execution_count": 74,
      "metadata": {
        "id": "TnLbcS_p8wUe",
        "colab": {
          "base_uri": "https://localhost:8080/"
        },
        "outputId": "ef481031-4498-45f0-a008-cafa13caa016"
      },
      "outputs": [
        {
          "output_type": "execute_result",
          "data": {
            "text/plain": [
              "<keras.src.engine.sequential.Sequential at 0x7f8ad75fa1d0>"
            ]
          },
          "metadata": {},
          "execution_count": 74
        }
      ],
      "source": [
        "build_model(keras_tuner.HyperParameters())"
      ]
    },
    {
      "cell_type": "code",
      "execution_count": 75,
      "metadata": {
        "id": "NotG4nzm8wcA",
        "colab": {
          "base_uri": "https://localhost:8080/"
        },
        "outputId": "dcfb045e-1451-4dfe-c006-4ce37f2092a0"
      },
      "outputs": [
        {
          "output_type": "stream",
          "name": "stdout",
          "text": [
            "Reloading Tuner from tuning_dir/samples/tuner0.json\n"
          ]
        }
      ],
      "source": [
        "tuner = keras_tuner.Hyperband(\n",
        "  hypermodel=build_model,\n",
        "  objective='val_accuracy',\n",
        "  max_epochs=100,\n",
        "  factor=3,\n",
        "  directory='tuning_dir',\n",
        "  project_name='samples')"
      ]
    },
    {
      "cell_type": "code",
      "execution_count": 76,
      "metadata": {
        "id": "Dnjcmc1u9Bgv"
      },
      "outputs": [],
      "source": [
        "tuner.search(X_train, y_train, epochs=30 ,validation_data=(X_test, y_test))"
      ]
    },
    {
      "cell_type": "code",
      "execution_count": 77,
      "metadata": {
        "colab": {
          "base_uri": "https://localhost:8080/"
        },
        "id": "WAtz6HIZ9Bj_",
        "outputId": "bd5b15ef-d5ca-4b50-be64-7c70272e4172"
      },
      "outputs": [
        {
          "output_type": "stream",
          "name": "stderr",
          "text": [
            "WARNING:tensorflow:Detecting that an object or model or tf.train.Checkpoint is being deleted with unrestored values. See the following logs for the specific values in question. To silence these warnings, use `status.expect_partial()`. See https://www.tensorflow.org/api_docs/python/tf/train/Checkpoint#restorefor details about the status object returned by the restore function.\n",
            "WARNING:tensorflow:Value in checkpoint could not be found in the restored object: (root).optimizer._variables.1\n",
            "WARNING:tensorflow:Value in checkpoint could not be found in the restored object: (root).optimizer._variables.2\n",
            "WARNING:tensorflow:Value in checkpoint could not be found in the restored object: (root).optimizer._variables.3\n",
            "WARNING:tensorflow:Value in checkpoint could not be found in the restored object: (root).optimizer._variables.4\n",
            "WARNING:tensorflow:Value in checkpoint could not be found in the restored object: (root).optimizer._variables.5\n",
            "WARNING:tensorflow:Value in checkpoint could not be found in the restored object: (root).optimizer._variables.6\n",
            "WARNING:tensorflow:Value in checkpoint could not be found in the restored object: (root).optimizer._variables.7\n",
            "WARNING:tensorflow:Value in checkpoint could not be found in the restored object: (root).optimizer._variables.8\n",
            "WARNING:tensorflow:Value in checkpoint could not be found in the restored object: (root).optimizer._variables.9\n",
            "WARNING:tensorflow:Value in checkpoint could not be found in the restored object: (root).optimizer._variables.10\n",
            "WARNING:tensorflow:Value in checkpoint could not be found in the restored object: (root).optimizer._variables.11\n",
            "WARNING:tensorflow:Value in checkpoint could not be found in the restored object: (root).optimizer._variables.12\n",
            "WARNING:tensorflow:Detecting that an object or model or tf.train.Checkpoint is being deleted with unrestored values. See the following logs for the specific values in question. To silence these warnings, use `status.expect_partial()`. See https://www.tensorflow.org/api_docs/python/tf/train/Checkpoint#restorefor details about the status object returned by the restore function.\n",
            "WARNING:tensorflow:Value in checkpoint could not be found in the restored object: (root).optimizer._variables.1\n",
            "WARNING:tensorflow:Value in checkpoint could not be found in the restored object: (root).optimizer._variables.2\n",
            "WARNING:tensorflow:Value in checkpoint could not be found in the restored object: (root).optimizer._variables.3\n",
            "WARNING:tensorflow:Value in checkpoint could not be found in the restored object: (root).optimizer._variables.4\n",
            "WARNING:tensorflow:Value in checkpoint could not be found in the restored object: (root).optimizer._variables.5\n",
            "WARNING:tensorflow:Value in checkpoint could not be found in the restored object: (root).optimizer._variables.6\n",
            "WARNING:tensorflow:Value in checkpoint could not be found in the restored object: (root).optimizer._variables.7\n",
            "WARNING:tensorflow:Value in checkpoint could not be found in the restored object: (root).optimizer._variables.8\n",
            "WARNING:tensorflow:Value in checkpoint could not be found in the restored object: (root).optimizer._variables.9\n",
            "WARNING:tensorflow:Value in checkpoint could not be found in the restored object: (root).optimizer._variables.10\n",
            "WARNING:tensorflow:Value in checkpoint could not be found in the restored object: (root).optimizer._variables.11\n",
            "WARNING:tensorflow:Value in checkpoint could not be found in the restored object: (root).optimizer._variables.12\n",
            "WARNING:tensorflow:Detecting that an object or model or tf.train.Checkpoint is being deleted with unrestored values. See the following logs for the specific values in question. To silence these warnings, use `status.expect_partial()`. See https://www.tensorflow.org/api_docs/python/tf/train/Checkpoint#restorefor details about the status object returned by the restore function.\n",
            "WARNING:tensorflow:Value in checkpoint could not be found in the restored object: (root).optimizer._variables.1\n",
            "WARNING:tensorflow:Value in checkpoint could not be found in the restored object: (root).optimizer._variables.2\n",
            "WARNING:tensorflow:Value in checkpoint could not be found in the restored object: (root).optimizer._variables.3\n",
            "WARNING:tensorflow:Value in checkpoint could not be found in the restored object: (root).optimizer._variables.4\n",
            "WARNING:tensorflow:Value in checkpoint could not be found in the restored object: (root).optimizer._variables.5\n",
            "WARNING:tensorflow:Value in checkpoint could not be found in the restored object: (root).optimizer._variables.6\n",
            "WARNING:tensorflow:Value in checkpoint could not be found in the restored object: (root).optimizer._variables.7\n",
            "WARNING:tensorflow:Value in checkpoint could not be found in the restored object: (root).optimizer._variables.8\n",
            "WARNING:tensorflow:Value in checkpoint could not be found in the restored object: (root).optimizer._variables.9\n",
            "WARNING:tensorflow:Value in checkpoint could not be found in the restored object: (root).optimizer._variables.10\n",
            "WARNING:tensorflow:Value in checkpoint could not be found in the restored object: (root).optimizer._variables.11\n",
            "WARNING:tensorflow:Value in checkpoint could not be found in the restored object: (root).optimizer._variables.12\n"
          ]
        }
      ],
      "source": [
        "best_model = tuner.get_best_models(num_models=2)[0]"
      ]
    },
    {
      "cell_type": "code",
      "execution_count": 78,
      "metadata": {
        "colab": {
          "base_uri": "https://localhost:8080/"
        },
        "id": "M8aj34rv9BnP",
        "outputId": "e99a2651-2318-48be-8168-2f60e659a393"
      },
      "outputs": [
        {
          "output_type": "stream",
          "name": "stdout",
          "text": [
            "Model: \"sequential\"\n",
            "_________________________________________________________________\n",
            " Layer (type)                Output Shape              Param #   \n",
            "=================================================================\n",
            " dense (Dense)               (None, 64)                448       \n",
            "                                                                 \n",
            " dense_1 (Dense)             (None, 96)                6240      \n",
            "                                                                 \n",
            " dense_2 (Dense)             (None, 1)                 97        \n",
            "                                                                 \n",
            "=================================================================\n",
            "Total params: 6785 (26.50 KB)\n",
            "Trainable params: 6785 (26.50 KB)\n",
            "Non-trainable params: 0 (0.00 Byte)\n",
            "_________________________________________________________________\n"
          ]
        }
      ],
      "source": [
        "best_model.summary()"
      ]
    },
    {
      "cell_type": "code",
      "execution_count": 79,
      "metadata": {
        "colab": {
          "base_uri": "https://localhost:8080/"
        },
        "id": "ttPxFSGiHABX",
        "outputId": "6bc9e93b-6d0f-4d0c-8395-459b0e53b2f2"
      },
      "outputs": [
        {
          "output_type": "stream",
          "name": "stdout",
          "text": [
            "45/45 [==============================] - 0s 2ms/step\n"
          ]
        }
      ],
      "source": [
        "y_pred = best_model.predict(X_test)\n",
        "y_pred_binary = (y_pred > 0.5).astype(int)"
      ]
    },
    {
      "cell_type": "code",
      "execution_count": 80,
      "metadata": {
        "colab": {
          "base_uri": "https://localhost:8080/"
        },
        "id": "u2Gd9bYWGOjZ",
        "outputId": "ecf54c54-0886-4cb7-cd20-bd97694c3e83"
      },
      "outputs": [
        {
          "output_type": "stream",
          "name": "stdout",
          "text": [
            "Accuracy: 0.8069552874378992\n",
            "AUC Score: 0.8517977475752274\n"
          ]
        }
      ],
      "source": [
        "accuracy = accuracy_score(y_test, y_pred_binary)\n",
        "auc_score = roc_auc_score(y_test, y_pred)\n",
        "\n",
        "print(f\"Accuracy: {accuracy}\")\n",
        "print(f\"AUC Score: {auc_score}\")"
      ]
    },
    {
      "cell_type": "code",
      "execution_count": 81,
      "metadata": {
        "id": "LY0GC1tCGTIO"
      },
      "outputs": [],
      "source": [
        "best_model.save(\"best_model.h5\")\n"
      ]
    },
    {
      "cell_type": "code",
      "execution_count": 82,
      "metadata": {
        "id": "NkNjPFLkSgZ_"
      },
      "outputs": [],
      "source": [
        "import pickle\n",
        "with open('standard_scaler.pkl', 'wb') as file:\n",
        "    pickle.dump(scaler, file)"
      ]
    }
  ],
  "metadata": {
    "colab": {
      "provenance": []
    },
    "kernelspec": {
      "display_name": "Python 3",
      "name": "python3"
    },
    "language_info": {
      "name": "python"
    }
  },
  "nbformat": 4,
  "nbformat_minor": 0
}